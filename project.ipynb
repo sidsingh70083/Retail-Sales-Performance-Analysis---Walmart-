{
 "cells": [
  {
   "cell_type": "code",
   "execution_count": 5,
   "id": "b81f1e95",
   "metadata": {},
   "outputs": [],
   "source": [
    "#Importing Dependencies\n",
    "\n",
    "import pandas as pd"
   ]
  },
  {
   "cell_type": "markdown",
   "id": "6e28ffe3",
   "metadata": {},
   "source": [
    "**Step 1 Data Exploration and Loading**"
   ]
  },
  {
   "cell_type": "code",
   "execution_count": 6,
   "id": "2d4f3036",
   "metadata": {},
   "outputs": [
    {
     "name": "stdout",
     "output_type": "stream",
     "text": [
      "2.3.2\n"
     ]
    }
   ],
   "source": [
    "print( pd.__version__ )"
   ]
  },
  {
   "cell_type": "code",
   "execution_count": null,
   "id": "4dc6696d",
   "metadata": {},
   "outputs": [],
   "source": []
  }
 ],
 "metadata": {
  "kernelspec": {
   "display_name": "my_env1",
   "language": "python",
   "name": "python3"
  },
  "language_info": {
   "codemirror_mode": {
    "name": "ipython",
    "version": 3
   },
   "file_extension": ".py",
   "mimetype": "text/x-python",
   "name": "python",
   "nbconvert_exporter": "python",
   "pygments_lexer": "ipython3",
   "version": "3.13.7"
  }
 },
 "nbformat": 4,
 "nbformat_minor": 5
}
